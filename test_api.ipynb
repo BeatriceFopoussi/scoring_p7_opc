{
 "cells": [
  {
   "cell_type": "code",
   "execution_count": 1,
   "id": "be10d435-87da-463b-8d65-51074b1be336",
   "metadata": {},
   "outputs": [],
   "source": [
    "import requests\n"
   ]
  },
  {
   "cell_type": "code",
   "execution_count": 2,
   "id": "28c1a0d8-926f-4207-9215-327a5b765a71",
   "metadata": {},
   "outputs": [],
   "source": [
    "\n",
    "id_client = 396899\n",
    "url = \"https://scoring-p7-opc-19.onrender.com\"\n",
    "reponse = requests.get(f\"{url}/prediction/{id_client}\")"
   ]
  },
  {
   "cell_type": "code",
   "execution_count": 4,
   "id": "8ae3042a-a191-4f45-a795-c2ff57ef240c",
   "metadata": {},
   "outputs": [
    {
     "data": {
      "text/plain": [
       "200"
      ]
     },
     "execution_count": 4,
     "metadata": {},
     "output_type": "execute_result"
    }
   ],
   "source": [
    "reponse.status_code"
   ]
  },
  {
   "cell_type": "code",
   "execution_count": 5,
   "id": "b911ef3f-b26a-4672-b3bb-6ba4144842a5",
   "metadata": {},
   "outputs": [
    {
     "data": {
      "text/plain": [
       "0.9999999846829781"
      ]
     },
     "execution_count": 5,
     "metadata": {},
     "output_type": "execute_result"
    }
   ],
   "source": [
    "reponse.json()"
   ]
  },
  {
   "cell_type": "code",
   "execution_count": null,
   "id": "b6a2fc1d-850e-4483-af87-25e0472de4e3",
   "metadata": {},
   "outputs": [],
   "source": []
  },
  {
   "cell_type": "code",
   "execution_count": null,
   "id": "42c970e0-021e-4a56-8cbb-a1c3f63ac93d",
   "metadata": {},
   "outputs": [],
   "source": [
    "https://scoring-p7-opc-19.onrender.com"
   ]
  }
 ],
 "metadata": {
  "kernelspec": {
   "display_name": "OPC",
   "language": "python",
   "name": "opc"
  },
  "language_info": {
   "codemirror_mode": {
    "name": "ipython",
    "version": 3
   },
   "file_extension": ".py",
   "mimetype": "text/x-python",
   "name": "python",
   "nbconvert_exporter": "python",
   "pygments_lexer": "ipython3",
   "version": "3.11.9"
  }
 },
 "nbformat": 4,
 "nbformat_minor": 5
}
