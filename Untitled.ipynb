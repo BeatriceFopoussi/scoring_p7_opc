{
 "cells": [
  {
   "cell_type": "code",
   "execution_count": 1,
   "id": "bb4e9cd5-482d-4af3-9d6e-c667c80d1e51",
   "metadata": {},
   "outputs": [],
   "source": [
    "import pandas as pd\n",
    "\n",
    "data_train = pd.read_csv('data_train.csv')\n",
    "data = pd.read_csv('data_test.csv')\n"
   ]
  },
  {
   "cell_type": "code",
   "execution_count": 4,
   "id": "6c519793-a125-4596-904d-525ff7aadc3a",
   "metadata": {},
   "outputs": [],
   "source": [
    "import pandas as pd\n",
    "from sklearn.preprocessing import StandardScaler\n",
    "from sklearn.neighbors import NearestNeighbors\n",
    "import pickle\n",
    "from sklearn.preprocessing import LabelEncoder"
   ]
  },
  {
   "cell_type": "code",
   "execution_count": 5,
   "id": "a58e358f-b0f2-41fd-bc10-39a9251c8e1e",
   "metadata": {},
   "outputs": [],
   "source": [
    "cols = data.select_dtypes(['float64']).columns\n",
    "data_scaled = data.copy()\n",
    "data_scaled[cols] = StandardScaler().fit_transform(data[cols])\n",
    "\n",
    "cols = data_train.select_dtypes(['float64']).columns\n",
    "data_train_scaled = data_train.copy()\n",
    "data_train_scaled[cols] = StandardScaler().fit_transform(data_train[cols])"
   ]
  },
  {
   "cell_type": "code",
   "execution_count": 6,
   "id": "c2870a48-d665-487a-8793-ae154510e3b0",
   "metadata": {},
   "outputs": [
    {
     "name": "stderr",
     "output_type": "stream",
     "text": [
      "C:\\Users\\HSPH9696\\AppData\\Local\\pypoetry\\Cache\\virtualenvs\\opc--SBbjjvv-py3.11\\Lib\\site-packages\\sklearn\\base.py:376: InconsistentVersionWarning: Trying to unpickle estimator StandardScaler from version 1.6.1 when using version 1.5.2. This might lead to breaking code or invalid results. Use at your own risk. For more info please refer to:\n",
      "https://scikit-learn.org/stable/model_persistence.html#security-maintainability-limitations\n",
      "  warnings.warn(\n",
      "C:\\Users\\HSPH9696\\AppData\\Local\\pypoetry\\Cache\\virtualenvs\\opc--SBbjjvv-py3.11\\Lib\\site-packages\\sklearn\\base.py:376: InconsistentVersionWarning: Trying to unpickle estimator StandardScaler from version 1.6.1 when using version 1.5.2. This might lead to breaking code or invalid results. Use at your own risk. For more info please refer to:\n",
      "https://scikit-learn.org/stable/model_persistence.html#security-maintainability-limitations\n",
      "  warnings.warn(\n",
      "C:\\Users\\HSPH9696\\AppData\\Local\\pypoetry\\Cache\\virtualenvs\\opc--SBbjjvv-py3.11\\Lib\\site-packages\\sklearn\\base.py:376: InconsistentVersionWarning: Trying to unpickle estimator ColumnTransformer from version 1.6.1 when using version 1.5.2. This might lead to breaking code or invalid results. Use at your own risk. For more info please refer to:\n",
      "https://scikit-learn.org/stable/model_persistence.html#security-maintainability-limitations\n",
      "  warnings.warn(\n",
      "C:\\Users\\HSPH9696\\AppData\\Local\\pypoetry\\Cache\\virtualenvs\\opc--SBbjjvv-py3.11\\Lib\\site-packages\\sklearn\\base.py:376: InconsistentVersionWarning: Trying to unpickle estimator LabelEncoder from version 1.6.1 when using version 1.5.2. This might lead to breaking code or invalid results. Use at your own risk. For more info please refer to:\n",
      "https://scikit-learn.org/stable/model_persistence.html#security-maintainability-limitations\n",
      "  warnings.warn(\n"
     ]
    }
   ],
   "source": [
    "model = pickle.load(open('models.pkl', 'rb'))\n"
   ]
  },
  {
   "cell_type": "code",
   "execution_count": null,
   "id": "471e3a80-b4f4-4709-93b1-0c17dd5291e0",
   "metadata": {},
   "outputs": [],
   "source": []
  }
 ],
 "metadata": {
  "kernelspec": {
   "display_name": "OPC",
   "language": "python",
   "name": "opc"
  },
  "language_info": {
   "codemirror_mode": {
    "name": "ipython",
    "version": 3
   },
   "file_extension": ".py",
   "mimetype": "text/x-python",
   "name": "python",
   "nbconvert_exporter": "python",
   "pygments_lexer": "ipython3",
   "version": "3.11.9"
  }
 },
 "nbformat": 4,
 "nbformat_minor": 5
}
